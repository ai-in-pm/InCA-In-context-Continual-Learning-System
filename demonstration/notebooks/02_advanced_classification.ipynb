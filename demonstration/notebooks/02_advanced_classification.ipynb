{
 "cells": [
  {
   "cell_type": "markdown",
   "metadata": {},
   "source": [
    "# Advanced Classification Techniques with InCA\n",
    "\n",
    "This notebook demonstrates advanced classification features including:\n",
    "1. Multi-LLM Ensemble Classification\n",
    "2. Confidence Thresholding\n",
    "3. Dynamic Class Management\n",
    "4. Distribution Analysis"
   ]
  },
  {
   "cell_type": "code",
   "execution_count": null,
   "metadata": {},
   "source": [
    "import os\n",
    "import sys\n",
    "import numpy as np\n",
    "import matplotlib.pyplot as plt\n",
    "import seaborn as sns\n",
    "sys.path.append('../../')\n",
    "\n",
    "from src.inca_agent import InCAAgent\n",
    "from src.llm_integration.gpt4_handler import GPT4Handler\n",
    "from src.llm_integration.claude_handler import ClaudeHandler\n",
    "from src.llm_integration.mistral_handler import MistralHandler"
   ]
  },
  {
   "cell_type": "markdown",
   "metadata": {},
   "source": [
    "## 1. Multi-LLM Ensemble Classification\n",
    "\n",
    "Demonstrate how to use multiple LLMs for robust classification."
   ]
  },
  {
   "cell_type": "code",
   "execution_count": null,
   "metadata": {},
   "source": [
    "# Initialize multiple LLM handlers\n",
    "llm_handlers = {\n",
    "    'gpt4': GPT4Handler(os.getenv('OPENAI_API_KEY')),\n",
    "    'claude': ClaudeHandler(os.getenv('ANTHROPIC_API_KEY')),\n",
    "    'mistral': MistralHandler(os.getenv('MISTRAL_API_KEY'))\n",
    "}\n",
    "\n",
    "# Create agent with multiple LLMs\n",
    "agent = InCAAgent(llm_handlers)\n",
    "\n",
    "# Add test classes\n",
    "classes = {\n",
    "    'technical': [\n",
    "        'The API endpoint requires OAuth2 authentication',\n",
    "        'Memory leak detected in the garbage collector',\n",
    "        'Database indexing improves query performance'\n",
    "    ],\n",
    "    'business': [\n",
    "        'Q4 revenue exceeded projections by 15%',\n",
    "        'New market expansion planned for next quarter',\n",
    "        'Customer acquisition cost decreased by 20%'\n",
    "    ]\n",
    "}\n",
    "\n",
    "for class_name, examples in classes.items():\n",
    "    agent.add_class(class_name, f'{class_name} content', examples)\n",
    "\n",
    "# Test ensemble classification\n",
    "test_text = \"The microservice architecture improved system scalability\"\n",
    "results = {}\n",
    "for llm_name, handler in llm_handlers.items():\n",
    "    results[llm_name] = agent.classify(test_text, llm_name=llm_name)\n",
    "\n",
    "# Display results from each LLM\n",
    "for llm_name, classifications in results.items():\n",
    "    print(f\"\\n{llm_name} classification:\")\n",
    "    for class_name, confidence in classifications.items():\n",
    "        print(f\"{class_name}: {confidence:.2f}\")"
   ]
  },
  {
   "cell_type": "markdown",
   "metadata": {},
   "source": [
    "## 2. Confidence Thresholding\n",
    "\n",
    "Demonstrate how to use confidence thresholds for reliable classification."
   ]
  },
  {
   "cell_type": "code",
   "execution_count": null,
   "metadata": {},
   "source": [
    "def classify_with_threshold(agent, text, threshold=0.6):\n",
    "    \"\"\"Classify text only if confidence exceeds threshold.\"\"\"\n",
    "    results = agent.classify(text)\n",
    "    return {k: v for k, v in results.items() if v >= threshold}\n",
    "\n",
    "# Test with different thresholds\n",
    "test_texts = [\n",
    "    \"The system requires 2GB of RAM\",  # Clear technical\n",
    "    \"Market analysis shows potential growth\",  # Clear business\n",
    "    \"The meeting discussed system architecture\"  # Ambiguous\n",
    "]\n",
    "\n",
    "thresholds = [0.5, 0.7, 0.9]\n",
    "\n",
    "for text in test_texts:\n",
    "    print(f\"\\nClassifying: {text}\")\n",
    "    for threshold in thresholds:\n",
    "        results = classify_with_threshold(agent, text, threshold)\n",
    "        print(f\"\\nThreshold {threshold}:\")\n",
    "        if results:\n",
    "            for class_name, conf in results.items():\n",
    "                print(f\"{class_name}: {conf:.2f}\")\n",
    "        else:\n",
    "            print(\"No classifications exceeded threshold\")"
   ]
  },
  {
   "cell_type": "markdown",
   "metadata": {},
   "source": [
    "## 3. Distribution Analysis\n",
    "\n",
    "Visualize class distributions and decision boundaries."
   ]
  },
  {
   "cell_type": "code",
   "execution_count": null,
   "metadata": {},
   "source": [
    "def plot_class_distributions(agent, test_texts):\n",
    "    \"\"\"Plot Mahalanobis distances for test texts across classes.\"\"\"\n",
    "    distances = []\n",
    "    class_names = list(agent.class_metadata.keys())\n",
    "    \n",
    "    for text in test_texts:\n",
    "        text_distances = []\n",
    "        for class_name in class_names:\n",
    "            distance = agent.get_mahalanobis_distance(text, class_name)\n",
    "            text_distances.append(distance)\n",
    "        distances.append(text_distances)\n",
    "    \n",
    "    # Create heatmap\n",
    "    plt.figure(figsize=(10, 6))\n",
    "    sns.heatmap(distances, \n",
    "                xticklabels=class_names,\n",
    "                yticklabels=[f'Text {i+1}' for i in range(len(test_texts))],\n",
    "                annot=True, \n",
    "                fmt='.2f')\n",
    "    plt.title('Mahalanobis Distances to Class Centers')\n",
    "    plt.show()\n",
    "\n",
    "# Test with example texts\n",
    "test_texts = [\n",
    "    \"Database optimization improved query speed\",\n",
    "    \"Revenue growth exceeded expectations\",\n",
    "    \"System architecture review meeting discussed market impact\"\n",
    "]\n",
    "\n",
    "plot_class_distributions(agent, test_texts)"
   ]
  }
 ],
 "metadata": {
  "kernelspec": {
   "display_name": "Python 3",
   "language": "python",
   "name": "python3"
  },
  "language_info": {
   "codemirror_mode": {
    "name": "ipython",
    "version": 3
   },
   "file_extension": ".py",
   "mimetype": "text/x-python",
   "name": "python",
   "nbconvert_exporter": "python",
   "pygments_lexer": "ipython3",
   "version": "3.8.0"
  }
 },
 "nbformat": 4,
 "nbformat_minor": 4
}
