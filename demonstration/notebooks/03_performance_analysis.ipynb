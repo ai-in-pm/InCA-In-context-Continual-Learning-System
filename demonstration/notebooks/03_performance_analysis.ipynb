{
 "cells": [
  {
   "cell_type": "markdown",
   "metadata": {},
   "source": [
    "# Performance Analysis and Visualization\n",
    "\n",
    "This notebook demonstrates the advanced performance monitoring and visualization capabilities of the InCA system."
   ]
  },
  {
   "cell_type": "code",
   "execution_count": null,
   "metadata": {},
   "source": [
    "import os\n",
    "import sys\n",
    "import numpy as np\n",
    "import matplotlib.pyplot as plt\n",
    "sys.path.append('../../')\n",
    "\n",
    "from src.inca_agent import InCAAgent\n",
    "from src.llm_integration.gpt4_handler import GPT4Handler\n",
    "from src.utils.performance_monitor import PerformanceMonitor\n",
    "from src.utils.visualization_tools import DistributionVisualizer"
   ]
  },
  {
   "cell_type": "markdown",
   "metadata": {},
   "source": [
    "## 1. Performance Monitoring\n",
    "\n",
    "Set up performance monitoring for the InCA system."
   ]
  },
  {
   "cell_type": "code",
   "execution_count": null,
   "metadata": {},
   "source": [
    "# Initialize components\n",
    "monitor = PerformanceMonitor()\n",
    "llm_handlers = {'gpt4': GPT4Handler(os.getenv('OPENAI_API_KEY'))}\n",
    "agent = InCAAgent(llm_handlers)\n",
    "\n",
    "# Add test classes\n",
    "test_classes = {\n",
    "    'technical': [\n",
    "        'System performance optimization required',\n",
    "        'Database query execution plan analysis',\n",
    "        'Memory leak detection in production'\n",
    "    ],\n",
    "    'business': [\n",
    "        'Quarterly revenue projections exceeded',\n",
    "        'Market expansion strategy analysis',\n",
    "        'Customer satisfaction metrics improved'\n",
    "    ]\n",
    "}\n",
    "\n",
    "# Add classes and record performance\n",
    "for class_name, examples in test_classes.items():\n",
    "    start_time = time.time()\n",
    "    try:\n",
    "        agent.add_class(class_name, f'{class_name} content', examples)\n",
    "        success = True\n",
    "        error_msg = None\n",
    "    except Exception as e:\n",
    "        success = False\n",
    "        error_msg = str(e)\n",
    "    \n",
    "    duration_ms = (time.time() - start_time) * 1000\n",
    "    monitor.record_metric(\n",
    "        operation='classification',\n",
    "        duration_ms=duration_ms,\n",
    "        memory_mb=100,  # Placeholder value\n",
    "        success=success,\n",
    "        error_message=error_msg\n",
    "    )\n",
    "\n",
    "# Get performance report\n",
    "report = monitor.get_performance_report()\n",
    "print(\"Performance Report:\")\n",
    "for operation, stats in report.items():\n",
    "    print(f\"\\n{operation}:\")\n",
    "    print(f\"Status: {stats['status']}\")\n",
    "    print(f\"Statistics: {stats['statistics']}\")\n",
    "    if stats['warnings']:\n",
    "        print(f\"Warnings: {stats['warnings']}\")"
   ]
  },
  {
   "cell_type": "markdown",
   "metadata": {},
   "source": [
    "## 2. Distribution Visualization\n",
    "\n",
    "Visualize class distributions and classification results."
   ]
  },
  {
   "cell_type": "code",
   "execution_count": null,
   "metadata": {},
   "source": [
    "# Get embeddings for visualization\n",
    "embeddings = {}\n",
    "for class_name, examples in test_classes.items():\n",
    "    class_embeddings = []\n",
    "    for example in examples:\n",
    "        embedding = llm_handlers['gpt4'].get_embeddings(example)\n",
    "        class_embeddings.append(embedding)\n",
    "    embeddings[class_name] = class_embeddings\n",
    "\n",
    "# Plot embedding clusters\n",
    "visualizer = DistributionVisualizer()\n",
    "fig = visualizer.plot_embedding_clusters(embeddings, method='pca')\n",
    "plt.show()\n",
    "\n",
    "# Plot with t-SNE\n",
    "fig = visualizer.plot_embedding_clusters(embeddings, method='tsne', perplexity=5)\n",
    "plt.show()"
   ]
  },
  {
   "cell_type": "markdown",
   "metadata": {},
   "source": [
    "## 3. Confidence Analysis\n",
    "\n",
    "Analyze classification confidence distributions."
   ]
  },
  {
   "cell_type": "code",
   "execution_count": null,
   "metadata": {},
   "source": [
    "# Generate test classifications\n",
    "test_texts = [\n",
    "    \"System optimization required for better performance\",\n",
    "    \"Market analysis shows potential growth opportunities\",\n",
    "    \"Database performance impacts business metrics\",\n",
    "    \"Technical implementation of business strategy\",\n",
    "    \"Revenue projections based on system metrics\"\n",
    "]\n",
    "\n",
    "confidences = {class_name: [] for class_name in test_classes}\n",
    "\n",
    "for text in test_texts:\n",
    "    results = agent.classify(text)\n",
    "    for class_name, confidence in results.items():\n",
    "        confidences[class_name].append(confidence)\n",
    "\n",
    "# Plot confidence distributions\n",
    "fig = visualizer.plot_confidence_distribution(confidences)\n",
    "plt.show()"
   ]
  },
  {
   "cell_type": "markdown",
   "metadata": {},
   "source": [
    "## 4. Performance Metrics Over Time\n",
    "\n",
    "Visualize system performance trends."
   ]
  },
  {
   "cell_type": "code",
   "execution_count": null,
   "metadata": {},
   "source": [
    "# Generate some performance data\n",
    "metrics = {\n",
    "    'classification': [],\n",
    "    'embedding': [],\n",
    "    'memory_mb': []\n",
    "}\n",
    "\n",
    "for i in range(10):\n",
    "    # Simulate classification operations\n",
    "    start_time = time.time()\n",
    "    agent.classify(test_texts[0])\n",
    "    duration = (time.time() - start_time) * 1000\n",
    "    metrics['classification'].append((i, duration))\n",
    "    \n",
    "    # Simulate memory usage\n",
    "    metrics['memory_mb'].append((i, 100 + i * 10))  # Simulated increasing memory\n",
    "\n",
    "# Plot performance metrics\n",
    "fig = visualizer.plot_performance_metrics(metrics)\n",
    "plt.show()"
   ]
  }
 ],
 "metadata": {
  "kernelspec": {
   "display_name": "Python 3",
   "language": "python",
   "name": "python3"
  },
  "language_info": {
   "codemirror_mode": {
    "name": "ipython",
    "version": 3
   },
   "file_extension": ".py",
   "mimetype": "text/x-python",
   "name": "python",
   "nbconvert_exporter": "python",
   "pygments_lexer": "ipython3",
   "version": "3.8.0"
  }
 },
 "nbformat": 4,
 "nbformat_minor": 4
}
