{
 "cells": [
  {
   "cell_type": "markdown",
   "metadata": {},
   "source": [
    "# InCA System Setup and Basic Usage\n",
    "\n",
    "This notebook demonstrates how to set up and use the InCA (In-context Continual Learning) system with multiple LLM backends."
   ]
  },
  {
   "cell_type": "code",
   "execution_count": null,
   "metadata": {},
   "source": [
    "import os\n",
    "import sys\n",
    "sys.path.append('../../')\n",
    "\n",
    "from src.inca_agent import InCAAgent\n",
    "from src.llm_integration.gpt4_handler import GPT4Handler\n",
    "from src.llm_integration.claude_handler import ClaudeHandler\n",
    "from src.llm_integration.mistral_handler import MistralHandler\n",
    "from src.llm_integration.groq_handler import GroqHandler\n",
    "from src.llm_integration.gemini_handler import GeminiHandler"
   ]
  },
  {
   "cell_type": "markdown",
   "metadata": {},
   "source": [
    "## Setting up API Keys\n",
    "\n",
    "First, let's set up our API keys. Make sure you have them stored in environment variables or a secure configuration file."
   ]
  },
  {
   "cell_type": "code",
   "execution_count": null,
   "metadata": {},
   "source": [
    "# Load API keys from environment variables\n",
    "api_keys = {\n",
    "    'openai': os.getenv('OPENAI_API_KEY'),\n",
    "    'anthropic': os.getenv('ANTHROPIC_API_KEY'),\n",
    "    'mistral': os.getenv('MISTRAL_API_KEY'),\n",
    "    'groq': os.getenv('GROQ_API_KEY'),\n",
    "    'google': os.getenv('GOOGLE_API_KEY')\n",
    "}"
   ]
  },
  {
   "cell_type": "markdown",
   "metadata": {},
   "source": [
    "## Initialize LLM Handlers\n",
    "\n",
    "Now we'll initialize handlers for each LLM backend."
   ]
  },
  {
   "cell_type": "code",
   "execution_count": null,
   "metadata": {},
   "source": [
    "# Initialize LLM handlers\n",
    "llm_handlers = {\n",
    "    'gpt4': GPT4Handler(api_keys['openai']),\n",
    "    'claude': ClaudeHandler(api_keys['anthropic']),\n",
    "    'mistral': MistralHandler(api_keys['mistral']),\n",
    "    'groq': GroqHandler(api_keys['groq']),\n",
    "    'gemini': GeminiHandler(api_keys['google'])\n",
    "}"
   ]
  },
  {
   "cell_type": "markdown",
   "metadata": {},
   "source": [
    "## Create InCA Agent\n",
    "\n",
    "Let's create our InCA agent with the initialized LLM handlers."
   ]
  },
  {
   "cell_type": "code",
   "execution_count": null,
   "metadata": {},
   "source": [
    "# Create InCA agent\n",
    "agent = InCAAgent(llm_handlers, primary_llm='gpt4')"
   ]
  },
  {
   "cell_type": "markdown",
   "metadata": {},
   "source": [
    "## Add Example Classes\n",
    "\n",
    "Let's add some example classes for sentiment analysis."
   ]
  },
  {
   "cell_type": "code",
   "execution_count": null,
   "metadata": {},
   "source": [
    "# Add positive sentiment class\n",
    "agent.add_class(\n",
    "    class_name=\"positive\",\n",
    "    description=\"Text expressing positive sentiment\",\n",
    "    examples=[\n",
    "        \"This product is amazing!\",\n",
    "        \"I love the new features.\",\n",
    "        \"Great customer service experience.\"\n",
    "    ]\n",
    ")\n",
    "\n",
    "# Add negative sentiment class\n",
    "agent.add_class(\n",
    "    class_name=\"negative\",\n",
    "    description=\"Text expressing negative sentiment\",\n",
    "    examples=[\n",
    "        \"This product is terrible.\",\n",
    "        \"Poor customer service.\",\n",
    "        \"I'm very disappointed.\"\n",
    "    ]\n",
    ")"
   ]
  },
  {
   "cell_type": "markdown",
   "metadata": {},
   "source": [
    "## Test Classification\n",
    "\n",
    "Now let's test our classification system."
   ]
  },
  {
   "cell_type": "code",
   "execution_count": null,
   "metadata": {},
   "source": [
    "# Test with a positive example\n",
    "text = \"I absolutely love this product!\"\n",
    "result = agent.classify(text)\n",
    "print(f\"Classification results for: '{text}'\")\n",
    "for class_name, confidence in result.items():\n",
    "    print(f\"{class_name}: {confidence:.2f}\")"
   ]
  },
  {
   "cell_type": "markdown",
   "metadata": {},
   "source": [
    "## Examine Class Distribution\n",
    "\n",
    "Let's look at the Mahalanobis distance between a text and a class."
   ]
  },
  {
   "cell_type": "code",
   "execution_count": null,
   "metadata": {},
   "source": [
    "# Get Mahalanobis distance\n",
    "text = \"This is a great product!\"\n",
    "distance = agent.get_mahalanobis_distance(text, \"positive\")\n",
    "print(f\"Mahalanobis distance to 'positive' class: {distance:.2f}\")"
   ]
  }
 ],
 "metadata": {
  "kernelspec": {
   "display_name": "Python 3",
   "language": "python",
   "name": "python3"
  },
  "language_info": {
   "codemirror_mode": {
    "name": "ipython",
    "version": 3
   },
   "file_extension": ".py",
   "mimetype": "text/x-python",
   "name": "python",
   "nbconvert_exporter": "python",
   "pygments_lexer": "ipython3",
   "version": "3.8.0"
  }
 },
 "nbformat": 4,
 "nbformat_minor": 4
}
