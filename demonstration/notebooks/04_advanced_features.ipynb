{
 "cells": [
  {
   "cell_type": "markdown",
   "metadata": {},
   "source": [
    "# Advanced InCA Features\n",
    "\n",
    "This notebook demonstrates the advanced features of the InCA system:\n",
    "1. Active Learning\n",
    "2. Drift Detection\n",
    "3. Performance Optimization"
   ]
  },
  {
   "cell_type": "code",
   "execution_count": null,
   "metadata": {},
   "source": [
    "import os\n",
    "import sys\n",
    "import numpy as np\n",
    "import matplotlib.pyplot as plt\n",
    "from datetime import datetime, timedelta\n",
    "sys.path.append('../../')\n",
    "\n",
    "from src.inca_agent import InCAAgent\n",
    "from src.llm_integration.gpt4_handler import GPT4Handler\n",
    "from src.utils.active_learning import ActiveLearner\n",
    "from src.utils.drift_detector import DriftDetector\n",
    "from src.utils.performance_optimizer import PerformanceOptimizer"
   ]
  },
  {
   "cell_type": "markdown",
   "metadata": {},
   "source": [
    "## 1. Active Learning\n",
    "\n",
    "Demonstrate how active learning selects informative samples."
   ]
  },
  {
   "cell_type": "code",
   "execution_count": null,
   "metadata": {},
   "source": [
    "# Initialize components\n",
    "active_learner = ActiveLearner()\n",
    "llm_handlers = {'gpt4': GPT4Handler(os.getenv('OPENAI_API_KEY'))}\n",
    "agent = InCAAgent(llm_handlers)\n",
    "\n",
    "# Generate some candidate samples\n",
    "candidates = [\n",
    "    {\n",
    "        'text': 'Complex technical issue with database indexing',\n",
    "        'confidences': {'technical': 0.6, 'business': 0.4},\n",
    "        'embedding': llm_handlers['gpt4'].get_embeddings('Complex technical issue')\n",
    "    },\n",
    "    {\n",
    "        'text': 'Market analysis shows growth potential',\n",
    "        'confidences': {'technical': 0.3, 'business': 0.7},\n",
    "        'embedding': llm_handlers['gpt4'].get_embeddings('Market analysis')\n",
    "    },\n",
    "    {\n",
    "        'text': 'System performance impacts revenue',\n",
    "        'confidences': {'technical': 0.5, 'business': 0.5},\n",
    "        'embedding': llm_handlers['gpt4'].get_embeddings('System performance')\n",
    "    }\n",
    "]\n",
    "\n",
    "# Select informative samples\n",
    "selected_samples = active_learner.select_samples(candidates, n_samples=2)\n",
    "\n",
    "print(\"Selected samples for labeling:\")\n",
    "for sample in selected_samples:\n",
    "    print(f\"\\nText: {sample.text}\")\n",
    "    print(f\"Uncertainty: {sample.uncertainty:.2f}\")\n",
    "    print(f\"Diversity Score: {sample.diversity_score:.2f}\")\n",
    "    print(f\"Combined Score: {sample.combined_score:.2f}\")"
   ]
  },
  {
   "cell_type": "markdown",
   "metadata": {},
   "source": [
    "## 2. Drift Detection\n",
    "\n",
    "Monitor and detect concept drift in the system."
   ]
  },
  {
   "cell_type": "code",
   "execution_count": null,
   "metadata": {},
   "source": [
    "# Initialize drift detector\n",
    "drift_detector = DriftDetector()\n",
    "\n",
    "# Add reference data\n",
    "reference_embeddings = [\n",
    "    llm_handlers['gpt4'].get_embeddings(text)\n",
    "    for text in [\n",
    "        'Technical documentation review',\n",
    "        'System architecture analysis',\n",
    "        'Database optimization required'\n",
    "    ]\n",
    "]\n",
    "\n",
    "drift_detector.update_reference_window('technical', reference_embeddings)\n",
    "\n",
    "# Test for drift with new data\n",
    "current_embeddings = [\n",
    "    llm_handlers['gpt4'].get_embeddings(text)\n",
    "    for text in [\n",
    "        'Code review feedback',\n",
    "        'Performance optimization needed',\n",
    "        'Technical debt assessment'\n",
    "    ]\n",
    "]\n",
    "\n",
    "# Detect drift\n",
    "drift_metrics = drift_detector.detect_drift('technical', current_embeddings)\n",
    "\n",
    "if drift_metrics:\n",
    "    print(f\"Drift detected!\")\n",
    "    print(f\"Drift score: {drift_metrics.drift_score:.2f}\")\n",
    "    print(f\"Severity: {drift_metrics.severity}\")\n",
    "    print(\"\\nRecommendations:\")\n",
    "    for rec in drift_detector.get_drift_recommendations(drift_metrics):\n",
    "        print(f\"- {rec}\")\n",
    "else:\n",
    "    print(\"No significant drift detected\")"
   ]
  },
  {
   "cell_type": "markdown",
   "metadata": {},
   "source": [
    "## 3. Performance Optimization\n",
    "\n",
    "Demonstrate performance optimization techniques."
   ]
  },
  {
   "cell_type": "code",
   "execution_count": null,
   "metadata": {},
   "source": [
    "# Initialize optimizer\n",
    "optimizer = PerformanceOptimizer()\n",
    "\n",
    "# Test batch processing\n",
    "test_texts = [\n",
    "    \"Technical review needed\",\n",
    "    \"Performance optimization required\",\n",
    "    \"System architecture analysis\",\n",
    "    \"Database indexing improvement\"\n",
    "]\n",
    "\n",
    "def process_text(text: str) -> List[float]:\n",
    "    return llm_handlers['gpt4'].get_embeddings(text)\n",
    "\n",
    "# Process in batches\n",
    "results = optimizer.batch_process(test_texts, process_text)\n",
    "\n",
    "# Get optimization metrics\n",
    "metrics = optimizer.get_optimization_metrics()\n",
    "print(\"\\nOptimization Metrics:\")\n",
    "print(f\"Cache Hit Rate: {metrics.cache_hit_rate:.2f}\")\n",
    "print(f\"Average Response Time: {metrics.avg_response_time:.2f}s\")\n",
    "print(f\"Memory Usage: {metrics.memory_usage_mb:.2f}MB\")\n",
    "print(f\"Throughput: {metrics.throughput:.2f} requests/second\")\n",
    "\n",
    "# Get optimization recommendations\n",
    "print(\"\\nOptimization Recommendations:\")\n",
    "for rec in optimizer.get_optimization_recommendations():\n",
    "    print(f\"- {rec}\")"
   ]
  }
 ],
 "metadata": {
  "kernelspec": {
   "display_name": "Python 3",
   "language": "python",
   "name": "python3"
  },
  "language_info": {
   "codemirror_mode": {
    "name": "ipython",
    "version": 3
   },
   "file_extension": ".py",
   "mimetype": "text/x-python",
   "name": "python",
   "nbconvert_exporter": "python",
   "pygments_lexer": "ipython3",
   "version": "3.8.0"
  }
 },
 "nbformat": 4,
 "nbformat_minor": 4
}
